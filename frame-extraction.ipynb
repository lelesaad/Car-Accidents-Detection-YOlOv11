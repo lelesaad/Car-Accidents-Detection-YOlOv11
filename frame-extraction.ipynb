{
 "cells": [
  {
   "cell_type": "code",
   "execution_count": 1,
   "id": "7bf100da",
   "metadata": {
    "_cell_guid": "b1076dfc-b9ad-4769-8c92-a6c4dae69d19",
    "_uuid": "8f2839f25d086af736a60e9eeb907d3b93b6e0e5",
    "execution": {
     "iopub.execute_input": "2025-01-02T08:52:53.407440Z",
     "iopub.status.busy": "2025-01-02T08:52:53.406950Z",
     "iopub.status.idle": "2025-01-02T08:52:54.501086Z",
     "shell.execute_reply": "2025-01-02T08:52:54.499782Z"
    },
    "papermill": {
     "duration": 1.101553,
     "end_time": "2025-01-02T08:52:54.504067",
     "exception": false,
     "start_time": "2025-01-02T08:52:53.402514",
     "status": "completed"
    },
    "tags": []
   },
   "outputs": [],
   "source": [
    "!rm -rf /kaggle/working/*"
   ]
  },
  {
   "cell_type": "code",
   "execution_count": 2,
   "id": "69be9b10",
   "metadata": {
    "execution": {
     "iopub.execute_input": "2025-01-02T08:52:54.510553Z",
     "iopub.status.busy": "2025-01-02T08:52:54.510169Z",
     "iopub.status.idle": "2025-01-02T08:52:55.647407Z",
     "shell.execute_reply": "2025-01-02T08:52:55.646211Z"
    },
    "papermill": {
     "duration": 1.143461,
     "end_time": "2025-01-02T08:52:55.649913",
     "exception": false,
     "start_time": "2025-01-02T08:52:54.506452",
     "status": "completed"
    },
    "tags": []
   },
   "outputs": [],
   "source": [
    "import cv2\n",
    "import os\n",
    "import json\n",
    "import pandas as pd\n",
    "\n",
    "# Define paths\n",
    "video_directory = '/kaggle/input/accidents'\n",
    "output_image_directory = '/kaggle/working/images'"
   ]
  },
  {
   "cell_type": "code",
   "execution_count": 3,
   "id": "1edee1e4",
   "metadata": {
    "execution": {
     "iopub.execute_input": "2025-01-02T08:52:55.656051Z",
     "iopub.status.busy": "2025-01-02T08:52:55.655394Z",
     "iopub.status.idle": "2025-01-02T08:52:55.660605Z",
     "shell.execute_reply": "2025-01-02T08:52:55.659667Z"
    },
    "papermill": {
     "duration": 0.010527,
     "end_time": "2025-01-02T08:52:55.662678",
     "exception": false,
     "start_time": "2025-01-02T08:52:55.652151",
     "status": "completed"
    },
    "tags": []
   },
   "outputs": [],
   "source": [
    "# Create output directories for images\n",
    "if not os.path.exists(output_image_directory):\n",
    "    os.makedirs(output_image_directory)"
   ]
  },
  {
   "cell_type": "code",
   "execution_count": 4,
   "id": "6e2b6a51",
   "metadata": {
    "execution": {
     "iopub.execute_input": "2025-01-02T08:52:55.668207Z",
     "iopub.status.busy": "2025-01-02T08:52:55.667849Z",
     "iopub.status.idle": "2025-01-02T08:53:11.399487Z",
     "shell.execute_reply": "2025-01-02T08:53:11.398222Z"
    },
    "papermill": {
     "duration": 15.737547,
     "end_time": "2025-01-02T08:53:11.402286",
     "exception": false,
     "start_time": "2025-01-02T08:52:55.664739",
     "status": "completed"
    },
    "tags": []
   },
   "outputs": [
    {
     "name": "stdout",
     "output_type": "stream",
     "text": [
      "Total frames in w10_116.mp4: 69\n",
      "Warning: w10_116.mp4 has fewer than 174 frames.\n",
      "Total frames in w1-32.mp4: 302\n",
      "Total frames in w1-17.mp4: 841\n",
      "Total frames in w10_132.mp4: 98\n",
      "Warning: w10_132.mp4 has fewer than 174 frames.\n",
      "Total frames in w10_124.mp4: 90\n",
      "Warning: w10_124.mp4 has fewer than 174 frames.\n",
      "Total frames in w10_114.mp4: 137\n",
      "Warning: w10_114.mp4 has fewer than 174 frames.\n",
      "Total frames in w10_134.mp4: 310\n",
      "Total frames in w10_113.mp4: 89\n",
      "Warning: w10_113.mp4 has fewer than 174 frames.\n",
      "Total frames in w10_12.mp4: 121\n",
      "Warning: w10_12.mp4 has fewer than 174 frames.\n",
      "Total frames in w10_129.mp4: 180\n",
      "Total frames in w10_115.mp4: 105\n",
      "Warning: w10_115.mp4 has fewer than 174 frames.\n",
      "Total frames in w10_135.mp4: 264\n",
      "Total frames in w1-14.mp4: 324\n",
      "Total frames in w10_127.mp4: 77\n",
      "Warning: w10_127.mp4 has fewer than 174 frames.\n",
      "Total frames in w1-35.mp4: 491\n",
      "Total frames in w1-16.mp4: 144\n",
      "Warning: w1-16.mp4 has fewer than 174 frames.\n",
      "Frame extraction complete.\n"
     ]
    }
   ],
   "source": [
    "# Step 1: Extract exactly 174 frames from each video\n",
    "num_frames_to_extract = 174\n",
    "\n",
    "for video_file in os.listdir(video_directory):\n",
    "    if video_file.endswith('.mp4'):  # Adjust the extension based on your video files\n",
    "        video_path = os.path.join(video_directory, video_file)\n",
    "        cap = cv2.VideoCapture(video_path)\n",
    "\n",
    "        total_frames = int(cap.get(cv2.CAP_PROP_FRAME_COUNT))  # Get total number of frames\n",
    "        print(f\"Total frames in {video_file}: {total_frames}\")\n",
    "\n",
    "        # Calculate the interval to extract frames\n",
    "        if total_frames < num_frames_to_extract:\n",
    "            print(f\"Warning: {video_file} has fewer than {num_frames_to_extract} frames.\")\n",
    "            interval = 1  # Extract every frame if there are fewer than 174\n",
    "        else:\n",
    "            interval = total_frames // num_frames_to_extract  # Calculate the interval\n",
    "\n",
    "        frame_count = 0\n",
    "        extracted_count = 0  # Count of extracted frames\n",
    "\n",
    "        while True:\n",
    "            ret, frame = cap.read()\n",
    "            if not ret:\n",
    "                break  # Break the loop if there are no more frames\n",
    "\n",
    "            # Check if the current frame should be extracted\n",
    "            if frame_count % interval == 0:\n",
    "                # Save the frame as an image\n",
    "                frame_filename = f\"{video_file.replace('.mp4', '')}_frame{extracted_count:04d}.jpg\"\n",
    "                cv2.imwrite(os.path.join(output_image_directory, frame_filename), frame)\n",
    "                extracted_count += 1\n",
    "\n",
    "            # Stop if we've extracted the desired number of frames\n",
    "            if extracted_count >= num_frames_to_extract:\n",
    "                break\n",
    "\n",
    "            frame_count += 1\n",
    "\n",
    "        cap.release()\n",
    "\n",
    "print(\"Frame extraction complete.\")"
   ]
  },
  {
   "cell_type": "code",
   "execution_count": null,
   "id": "303ee6e8",
   "metadata": {
    "papermill": {
     "duration": 0.002902,
     "end_time": "2025-01-02T08:53:11.408300",
     "exception": false,
     "start_time": "2025-01-02T08:53:11.405398",
     "status": "completed"
    },
    "tags": []
   },
   "outputs": [],
   "source": []
  }
 ],
 "metadata": {
  "kaggle": {
   "accelerator": "none",
   "dataSources": [
    {
     "databundleVersionId": 10663835,
     "datasetId": 6411743,
     "sourceId": 10353860,
     "sourceType": "datasetVersion"
    }
   ],
   "dockerImageVersionId": 30787,
   "isGpuEnabled": false,
   "isInternetEnabled": true,
   "language": "python",
   "sourceType": "notebook"
  },
  "kernelspec": {
   "display_name": "Python 3",
   "language": "python",
   "name": "python3"
  },
  "language_info": {
   "codemirror_mode": {
    "name": "ipython",
    "version": 3
   },
   "file_extension": ".py",
   "mimetype": "text/x-python",
   "name": "python",
   "nbconvert_exporter": "python",
   "pygments_lexer": "ipython3",
   "version": "3.10.14"
  },
  "papermill": {
   "default_parameters": {},
   "duration": 21.738441,
   "end_time": "2025-01-02T08:53:11.932277",
   "environment_variables": {},
   "exception": null,
   "input_path": "__notebook__.ipynb",
   "output_path": "__notebook__.ipynb",
   "parameters": {},
   "start_time": "2025-01-02T08:52:50.193836",
   "version": "2.6.0"
  }
 },
 "nbformat": 4,
 "nbformat_minor": 5
}
